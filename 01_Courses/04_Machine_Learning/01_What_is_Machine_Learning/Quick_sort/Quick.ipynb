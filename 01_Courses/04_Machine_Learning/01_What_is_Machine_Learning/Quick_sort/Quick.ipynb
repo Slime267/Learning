{
 "cells": [
  {
   "cell_type": "markdown",
   "id": "0fb0a86d",
   "metadata": {},
   "source": [
    "# 快速排序"
   ]
  },
  {
   "cell_type": "code",
   "execution_count": 2,
   "id": "8ec6f114",
   "metadata": {},
   "outputs": [
    {
     "name": "stdout",
     "output_type": "stream",
     "text": [
      "排序后数列为：\n",
      "[1, 2, 3, 4, 5]\n"
     ]
    }
   ],
   "source": [
    "def Quick(nums, left, right):\n",
    "    i = left\n",
    "    j = right\n",
    "    \n",
    "    if i >= j:\n",
    "        return\n",
    "\n",
    "    temp = nums[left]\n",
    "    while(i != j):\n",
    "        while(nums[j] >= temp and i < j):\n",
    "            j = j - 1\n",
    "        while(nums[i] <= temp and i < j):\n",
    "            i = i + 1\n",
    "        if i < j:\n",
    "            nums[i], nums[j] = nums[j], nums[i]\n",
    "\n",
    "        nums[left], nums[i] = nums[i], nums[left]\n",
    "        Quick(nums, left, i-1)\n",
    "        Quick(nums, i+1,right)\n",
    "\n",
    "        return nums\n",
    "\n",
    "nums = input(\"请输入一串数字：\\n\").split()\n",
    "nums = [int(s) for s in nums]\n",
    "print(\"排序后数列为：\")\n",
    "print(Quick(nums, 0, len(nums)-1))"
   ]
  }
 ],
 "metadata": {
  "kernelspec": {
   "display_name": "Python 3",
   "language": "python",
   "name": "python3"
  },
  "language_info": {
   "codemirror_mode": {
    "name": "ipython",
    "version": 3
   },
   "file_extension": ".py",
   "mimetype": "text/x-python",
   "name": "python",
   "nbconvert_exporter": "python",
   "pygments_lexer": "ipython3",
   "version": "3.12.10"
  }
 },
 "nbformat": 4,
 "nbformat_minor": 5
}
