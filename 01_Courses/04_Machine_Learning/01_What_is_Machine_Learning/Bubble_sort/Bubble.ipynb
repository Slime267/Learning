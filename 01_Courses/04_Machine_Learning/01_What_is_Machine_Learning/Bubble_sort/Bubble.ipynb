{
 "cells": [
  {
   "cell_type": "markdown",
   "id": "429f011f",
   "metadata": {},
   "source": [
    "# 冒泡排序"
   ]
  },
  {
   "cell_type": "code",
   "execution_count": 1,
   "id": "1314ce1d-028c-48d2-a223-af103e2d5c77",
   "metadata": {},
   "outputs": [
    {
     "name": "stdout",
     "output_type": "stream",
     "text": [
      "排序后数列为：\n",
      "[]\n"
     ]
    }
   ],
   "source": [
    "def Bubbles(nums):\n",
    "    for i in range(len(nums)):\n",
    "        for j in range(len(nums)-i-1):\n",
    "            if nums[j] > nums[j+1]:\n",
    "                nums[j],nums[j+1] = nums[j+1],nums[j]\n",
    "    return nums\n",
    "\n",
    "nums = input(\"请输入一串数字：\\n\").split()\n",
    "nums = [int(s) for s in nums]\n",
    "print(\"排序后数列为：\")\n",
    "print(Bubbles(nums))"
   ]
  }
 ],
 "metadata": {
  "kernelspec": {
   "display_name": "Python 3",
   "language": "python",
   "name": "python3"
  },
  "language_info": {
   "codemirror_mode": {
    "name": "ipython",
    "version": 3
   },
   "file_extension": ".py",
   "mimetype": "text/x-python",
   "name": "python",
   "nbconvert_exporter": "python",
   "pygments_lexer": "ipython3",
   "version": "3.12.10"
  }
 },
 "nbformat": 4,
 "nbformat_minor": 5
}
