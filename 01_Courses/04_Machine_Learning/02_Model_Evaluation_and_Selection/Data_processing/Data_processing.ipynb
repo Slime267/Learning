{
 "cells": [
  {
   "cell_type": "markdown",
   "id": "7d43b354",
   "metadata": {},
   "source": [
    "# 数据预处理"
   ]
  },
  {
   "cell_type": "markdown",
   "id": "baf133fa",
   "metadata": {},
   "source": [
    "## 1 引入常用库"
   ]
  },
  {
   "cell_type": "code",
   "execution_count": 3,
   "id": "2cae95c2",
   "metadata": {},
   "outputs": [],
   "source": [
    "import pandas as pd \n",
    "import numpy as np \n",
    "import seaborn as sb \n",
    "import matplotlib.pyplot as plt \n",
    "from sklearn.model_selection import train_test_split\n",
    "import warnings\n",
    "warnings.filterwarnings('ignore')"
   ]
  },
  {
   "cell_type": "markdown",
   "id": "ed6f9554",
   "metadata": {},
   "source": [
    "## 2 使用Pandas加载并显示文件信息"
   ]
  },
  {
   "cell_type": "code",
   "execution_count": 4,
   "id": "fee563fa",
   "metadata": {},
   "outputs": [
    {
     "name": "stdout",
     "output_type": "stream",
     "text": [
      "Pregnancies                   int64\n",
      "Glucose                       int64\n",
      "BloodPressure               float64\n",
      "SkinThickness               float64\n",
      "Insulin                       int64\n",
      "BMI                         float64\n",
      "DiabetesPedigreeFunction    float64\n",
      "Age                           int64\n",
      "Outcome                       int64\n",
      "dtype: object\n",
      "Pregnancies                 0\n",
      "Glucose                     0\n",
      "BloodPressure               1\n",
      "SkinThickness               1\n",
      "Insulin                     0\n",
      "BMI                         0\n",
      "DiabetesPedigreeFunction    1\n",
      "Age                         0\n",
      "Outcome                     0\n",
      "dtype: int64\n"
     ]
    }
   ],
   "source": [
    "pima = pd.read_csv(\"diabetes.csv\")\n",
    "print(pima.dtypes)\n",
    "print(pima.isnull().sum())"
   ]
  },
  {
   "cell_type": "markdown",
   "id": "36c5099d",
   "metadata": {},
   "source": [
    "## 3 数据查看"
   ]
  },
  {
   "cell_type": "code",
   "execution_count": 5,
   "id": "6707fda6",
   "metadata": {},
   "outputs": [
    {
     "name": "stdout",
     "output_type": "stream",
     "text": [
      "   Pregnancies  Glucose  BloodPressure  SkinThickness  Insulin   BMI  \\\n",
      "0            6      148           72.0           35.0        0  33.6   \n",
      "1            1       85           66.0           29.0        0  26.6   \n",
      "2            8      183           64.0            0.0        0  23.3   \n",
      "3            1       89           66.0           23.0       94  28.1   \n",
      "4            0      137           40.0           35.0      168  43.1   \n",
      "5            5      116           74.0            0.0        0  25.6   \n",
      "6            3       78           50.0           32.0       88  31.0   \n",
      "7           10      115            0.0            0.0        0  35.3   \n",
      "8            2      197           70.0           45.0      543  30.5   \n",
      "9            8      125           96.0            0.0        0   0.0   \n",
      "\n",
      "   DiabetesPedigreeFunction  Age  Outcome  \n",
      "0                     0.627   50        1  \n",
      "1                     0.351   31        0  \n",
      "2                     0.672   32        1  \n",
      "3                     0.167   21        0  \n",
      "4                     2.288   33        1  \n",
      "5                     0.201   30        0  \n",
      "6                     0.248   26        1  \n",
      "7                     0.134   29        0  \n",
      "8                     0.158   53        1  \n",
      "9                     0.232   54        1  \n"
     ]
    }
   ],
   "source": [
    "print(pima.head(10))"
   ]
  },
  {
   "cell_type": "markdown",
   "id": "8d48c7dd",
   "metadata": {},
   "source": [
    "## 4 替换缺失值为0"
   ]
  },
  {
   "cell_type": "code",
   "execution_count": 7,
   "id": "200d0bea",
   "metadata": {},
   "outputs": [
    {
     "data": {
      "text/html": [
       "<div>\n",
       "<style scoped>\n",
       "    .dataframe tbody tr th:only-of-type {\n",
       "        vertical-align: middle;\n",
       "    }\n",
       "\n",
       "    .dataframe tbody tr th {\n",
       "        vertical-align: top;\n",
       "    }\n",
       "\n",
       "    .dataframe thead th {\n",
       "        text-align: right;\n",
       "    }\n",
       "</style>\n",
       "<table border=\"1\" class=\"dataframe\">\n",
       "  <thead>\n",
       "    <tr style=\"text-align: right;\">\n",
       "      <th></th>\n",
       "      <th>Glucose</th>\n",
       "      <th>BloodPressure</th>\n",
       "      <th>SkinThickness</th>\n",
       "      <th>Insulin</th>\n",
       "      <th>BMI</th>\n",
       "    </tr>\n",
       "  </thead>\n",
       "  <tbody>\n",
       "    <tr>\n",
       "      <th>0</th>\n",
       "      <td>148</td>\n",
       "      <td>72.0</td>\n",
       "      <td>35.0</td>\n",
       "      <td>0</td>\n",
       "      <td>33.6</td>\n",
       "    </tr>\n",
       "    <tr>\n",
       "      <th>1</th>\n",
       "      <td>85</td>\n",
       "      <td>66.0</td>\n",
       "      <td>29.0</td>\n",
       "      <td>0</td>\n",
       "      <td>26.6</td>\n",
       "    </tr>\n",
       "    <tr>\n",
       "      <th>2</th>\n",
       "      <td>183</td>\n",
       "      <td>64.0</td>\n",
       "      <td>0.0</td>\n",
       "      <td>0</td>\n",
       "      <td>23.3</td>\n",
       "    </tr>\n",
       "    <tr>\n",
       "      <th>3</th>\n",
       "      <td>89</td>\n",
       "      <td>66.0</td>\n",
       "      <td>23.0</td>\n",
       "      <td>94</td>\n",
       "      <td>28.1</td>\n",
       "    </tr>\n",
       "    <tr>\n",
       "      <th>4</th>\n",
       "      <td>137</td>\n",
       "      <td>40.0</td>\n",
       "      <td>35.0</td>\n",
       "      <td>168</td>\n",
       "      <td>43.1</td>\n",
       "    </tr>\n",
       "    <tr>\n",
       "      <th>...</th>\n",
       "      <td>...</td>\n",
       "      <td>...</td>\n",
       "      <td>...</td>\n",
       "      <td>...</td>\n",
       "      <td>...</td>\n",
       "    </tr>\n",
       "    <tr>\n",
       "      <th>763</th>\n",
       "      <td>101</td>\n",
       "      <td>76.0</td>\n",
       "      <td>48.0</td>\n",
       "      <td>180</td>\n",
       "      <td>32.9</td>\n",
       "    </tr>\n",
       "    <tr>\n",
       "      <th>764</th>\n",
       "      <td>122</td>\n",
       "      <td>70.0</td>\n",
       "      <td>27.0</td>\n",
       "      <td>0</td>\n",
       "      <td>36.8</td>\n",
       "    </tr>\n",
       "    <tr>\n",
       "      <th>765</th>\n",
       "      <td>121</td>\n",
       "      <td>72.0</td>\n",
       "      <td>23.0</td>\n",
       "      <td>112</td>\n",
       "      <td>26.2</td>\n",
       "    </tr>\n",
       "    <tr>\n",
       "      <th>766</th>\n",
       "      <td>126</td>\n",
       "      <td>60.0</td>\n",
       "      <td>0.0</td>\n",
       "      <td>0</td>\n",
       "      <td>30.1</td>\n",
       "    </tr>\n",
       "    <tr>\n",
       "      <th>767</th>\n",
       "      <td>93</td>\n",
       "      <td>70.0</td>\n",
       "      <td>31.0</td>\n",
       "      <td>0</td>\n",
       "      <td>30.4</td>\n",
       "    </tr>\n",
       "  </tbody>\n",
       "</table>\n",
       "<p>768 rows × 5 columns</p>\n",
       "</div>"
      ],
      "text/plain": [
       "     Glucose  BloodPressure  SkinThickness  Insulin   BMI\n",
       "0        148           72.0           35.0        0  33.6\n",
       "1         85           66.0           29.0        0  26.6\n",
       "2        183           64.0            0.0        0  23.3\n",
       "3         89           66.0           23.0       94  28.1\n",
       "4        137           40.0           35.0      168  43.1\n",
       "..       ...            ...            ...      ...   ...\n",
       "763      101           76.0           48.0      180  32.9\n",
       "764      122           70.0           27.0        0  36.8\n",
       "765      121           72.0           23.0      112  26.2\n",
       "766      126           60.0            0.0        0  30.1\n",
       "767       93           70.0           31.0        0  30.4\n",
       "\n",
       "[768 rows x 5 columns]"
      ]
     },
     "execution_count": 7,
     "metadata": {},
     "output_type": "execute_result"
    }
   ],
   "source": [
    "pima[['Glucose','BloodPressure','SkinThickness','Insulin','BMI']].replace(np.nan,0)"
   ]
  },
  {
   "cell_type": "markdown",
   "id": "3c7ec495",
   "metadata": {},
   "source": [
    "## 5 将Pregnancies转化为分类变量"
   ]
  },
  {
   "cell_type": "code",
   "execution_count": 8,
   "id": "055505cc",
   "metadata": {},
   "outputs": [
    {
     "name": "stdout",
     "output_type": "stream",
     "text": [
      "0    2\n",
      "1    1\n",
      "2    2\n",
      "3    1\n",
      "4    0\n",
      "5    2\n",
      "6    1\n",
      "7    3\n",
      "8    1\n",
      "9    2\n",
      "Name: Pregnancies, dtype: category\n",
      "Categories (4, int64): [0 < 1 < 2 < 3]\n",
      "0    2\n",
      "1    0\n",
      "2    3\n",
      "3    0\n",
      "4    0\n",
      "5    2\n",
      "6    1\n",
      "7    3\n",
      "8    1\n",
      "9    3\n",
      "Name: Pregnancies, dtype: category\n",
      "Categories (4, int64): [0 < 1 < 2 < 3]\n"
     ]
    }
   ],
   "source": [
    "Pregnancies1=pd.cut(pima['Pregnancies'],[0,1,5,10,250], labels=[0,1,2,3],right=False)\n",
    "Pregnancies2=pd.qcut(pima['Pregnancies'],4, labels=[0,1,2,3])\n",
    "print(Pregnancies1.head(10))\n",
    "print(Pregnancies2.head(10))"
   ]
  },
  {
   "cell_type": "markdown",
   "id": "ac40486f",
   "metadata": {},
   "source": [
    "## 6 划分训练集和数据集"
   ]
  },
  {
   "cell_type": "code",
   "execution_count": 9,
   "id": "137bd805",
   "metadata": {},
   "outputs": [
    {
     "name": "stdout",
     "output_type": "stream",
     "text": [
      "(768, 8) (576, 8) (192, 8) (768,) (576,) (192,)\n"
     ]
    }
   ],
   "source": [
    "x1 = pima.drop(columns='Outcome')\n",
    "y1 = pima['Outcome']\n",
    "x_train1, x_test1, y_train1, y_test1 = train_test_split(x1, y1, test_size = 0.25, random_state=0)\n",
    "print(x1.shape, x_train1.shape, x_test1.shape, y1.shape, y_train1.shape, y_test1.shape)"
   ]
  }
 ],
 "metadata": {
  "kernelspec": {
   "display_name": "Python 3",
   "language": "python",
   "name": "python3"
  },
  "language_info": {
   "codemirror_mode": {
    "name": "ipython",
    "version": 3
   },
   "file_extension": ".py",
   "mimetype": "text/x-python",
   "name": "python",
   "nbconvert_exporter": "python",
   "pygments_lexer": "ipython3",
   "version": "3.12.10"
  }
 },
 "nbformat": 4,
 "nbformat_minor": 5
}
